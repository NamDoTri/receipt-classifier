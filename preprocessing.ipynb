{
 "nbformat": 4,
 "nbformat_minor": 2,
 "metadata": {
  "language_info": {
   "name": "python",
   "codemirror_mode": {
    "name": "ipython",
    "version": 3
   },
   "version": "3.7.4-final"
  },
  "orig_nbformat": 2,
  "file_extension": ".py",
  "mimetype": "text/x-python",
  "name": "python",
  "npconvert_exporter": "python",
  "pygments_lexer": "ipython3",
  "version": 3,
  "kernelspec": {
   "name": "python3",
   "display_name": "Python 3"
  }
 },
 "cells": [
  {
   "cell_type": "code",
   "execution_count": 1,
   "metadata": {},
   "outputs": [],
   "source": [
    "import numpy as np \n",
    "from sklearn.model_selection import train_test_split\n",
    "from sklearn.feature_extraction.text import CountVectorizer\n",
    "from sklearn.naive_bayes import MultinomialNB\n",
    "from sklearn.metrics import accuracy_score, precision_score, recall_score, classification_report\n",
    "import pandas as pd"
   ]
  },
  {
   "cell_type": "code",
   "execution_count": 6,
   "metadata": {},
   "outputs": [
    {
     "output_type": "execute_result",
     "data": {
      "text/plain": "     citrus fruit,semi-finished bread,margarine,ready soups\n0                          tropical fruit,yogurt,coffee    \n1                                            whole milk    \n2            pip fruit,yogurt,cream cheese,meat spreads    \n3     other vegetables,whole milk,condensed milk,lon...    \n4        whole milk,butter,yogurt,rice,abrasive cleaner    \n...                                                 ...    \n9829  sausage,chicken,beef,hamburger meat,citrus fru...    \n9830                                  cooking chocolate    \n9831  chicken,citrus fruit,other vegetables,butter,y...    \n9832  semi-finished bread,bottled water,soda,bottled...    \n9833  chicken,tropical fruit,other vegetables,vinega...    \n\n[9834 rows x 1 columns]",
      "text/html": "<div>\n<style scoped>\n    .dataframe tbody tr th:only-of-type {\n        vertical-align: middle;\n    }\n\n    .dataframe tbody tr th {\n        vertical-align: top;\n    }\n\n    .dataframe thead th {\n        text-align: right;\n    }\n</style>\n<table border=\"1\" class=\"dataframe\">\n  <thead>\n    <tr style=\"text-align: right;\">\n      <th></th>\n      <th>citrus fruit,semi-finished bread,margarine,ready soups</th>\n    </tr>\n  </thead>\n  <tbody>\n    <tr>\n      <td>0</td>\n      <td>tropical fruit,yogurt,coffee</td>\n    </tr>\n    <tr>\n      <td>1</td>\n      <td>whole milk</td>\n    </tr>\n    <tr>\n      <td>2</td>\n      <td>pip fruit,yogurt,cream cheese,meat spreads</td>\n    </tr>\n    <tr>\n      <td>3</td>\n      <td>other vegetables,whole milk,condensed milk,lon...</td>\n    </tr>\n    <tr>\n      <td>4</td>\n      <td>whole milk,butter,yogurt,rice,abrasive cleaner</td>\n    </tr>\n    <tr>\n      <td>...</td>\n      <td>...</td>\n    </tr>\n    <tr>\n      <td>9829</td>\n      <td>sausage,chicken,beef,hamburger meat,citrus fru...</td>\n    </tr>\n    <tr>\n      <td>9830</td>\n      <td>cooking chocolate</td>\n    </tr>\n    <tr>\n      <td>9831</td>\n      <td>chicken,citrus fruit,other vegetables,butter,y...</td>\n    </tr>\n    <tr>\n      <td>9832</td>\n      <td>semi-finished bread,bottled water,soda,bottled...</td>\n    </tr>\n    <tr>\n      <td>9833</td>\n      <td>chicken,tropical fruit,other vegetables,vinega...</td>\n    </tr>\n  </tbody>\n</table>\n<p>9834 rows × 1 columns</p>\n</div>"
     },
     "metadata": {},
     "execution_count": 6
    }
   ],
   "source": [
    "groceries_df = pd.read_csv(\"datasets/groceries/groceries.csv\", sep=\"\\n\")\n",
    "groceries_df"
   ]
  },
  {
   "cell_type": "markdown",
   "metadata": {},
   "source": [
    "9834 samples of category \"Grocery\" in groceries.csv file\n"
   ]
  },
  {
   "cell_type": "code",
   "execution_count": 23,
   "metadata": {},
   "outputs": [
    {
     "output_type": "execute_result",
     "data": {
      "text/plain": "       InvoiceNo                          Description\n0         536365   WHITE HANGING HEART T-LIGHT HOLDER\n1         536365                  WHITE METAL LANTERN\n2         536365       CREAM CUPID HEARTS COAT HANGER\n3         536365  KNITTED UNION FLAG HOT WATER BOTTLE\n4         536365       RED WOOLLY HOTTIE WHITE HEART.\n...          ...                                  ...\n541904    581587          PACK OF 20 SPACEBOY NAPKINS\n541905    581587         CHILDREN'S APRON DOLLY GIRL \n541906    581587        CHILDRENS CUTLERY DOLLY GIRL \n541907    581587      CHILDRENS CUTLERY CIRCUS PARADE\n541908    581587        BAKING SET 9 PIECE RETROSPOT \n\n[541909 rows x 2 columns]",
      "text/html": "<div>\n<style scoped>\n    .dataframe tbody tr th:only-of-type {\n        vertical-align: middle;\n    }\n\n    .dataframe tbody tr th {\n        vertical-align: top;\n    }\n\n    .dataframe thead th {\n        text-align: right;\n    }\n</style>\n<table border=\"1\" class=\"dataframe\">\n  <thead>\n    <tr style=\"text-align: right;\">\n      <th></th>\n      <th>InvoiceNo</th>\n      <th>Description</th>\n    </tr>\n  </thead>\n  <tbody>\n    <tr>\n      <td>0</td>\n      <td>536365</td>\n      <td>WHITE HANGING HEART T-LIGHT HOLDER</td>\n    </tr>\n    <tr>\n      <td>1</td>\n      <td>536365</td>\n      <td>WHITE METAL LANTERN</td>\n    </tr>\n    <tr>\n      <td>2</td>\n      <td>536365</td>\n      <td>CREAM CUPID HEARTS COAT HANGER</td>\n    </tr>\n    <tr>\n      <td>3</td>\n      <td>536365</td>\n      <td>KNITTED UNION FLAG HOT WATER BOTTLE</td>\n    </tr>\n    <tr>\n      <td>4</td>\n      <td>536365</td>\n      <td>RED WOOLLY HOTTIE WHITE HEART.</td>\n    </tr>\n    <tr>\n      <td>...</td>\n      <td>...</td>\n      <td>...</td>\n    </tr>\n    <tr>\n      <td>541904</td>\n      <td>581587</td>\n      <td>PACK OF 20 SPACEBOY NAPKINS</td>\n    </tr>\n    <tr>\n      <td>541905</td>\n      <td>581587</td>\n      <td>CHILDREN'S APRON DOLLY GIRL</td>\n    </tr>\n    <tr>\n      <td>541906</td>\n      <td>581587</td>\n      <td>CHILDRENS CUTLERY DOLLY GIRL</td>\n    </tr>\n    <tr>\n      <td>541907</td>\n      <td>581587</td>\n      <td>CHILDRENS CUTLERY CIRCUS PARADE</td>\n    </tr>\n    <tr>\n      <td>541908</td>\n      <td>581587</td>\n      <td>BAKING SET 9 PIECE RETROSPOT</td>\n    </tr>\n  </tbody>\n</table>\n<p>541909 rows × 2 columns</p>\n</div>"
     },
     "metadata": {},
     "execution_count": 23
    }
   ],
   "source": [
    "online_retail_df = pd.read_csv(\"datasets/Online Retail.csv\")\n",
    "online_retail_df = online_retail_df[['InvoiceNo', 'Description']] # use only the columns needed\n",
    "online_retail_df"
   ]
  },
  {
   "cell_type": "code",
   "execution_count": 29,
   "metadata": {},
   "outputs": [
    {
     "output_type": "execute_result",
     "data": {
      "text/plain": "25900"
     },
     "metadata": {},
     "execution_count": 29
    }
   ],
   "source": [
    "grpby_invoice = online_retail_df.groupby(\"InvoiceNo\")\n",
    "len(grpby_invoice.groups)"
   ]
  },
  {
   "cell_type": "code",
   "execution_count": 25,
   "metadata": {},
   "outputs": [
    {
     "output_type": "execute_result",
     "data": {
      "text/plain": "      InvoiceNo                    Description\n20681    538070   COFFEE MUG DOG + BALL DESIGN\n20682    538070   COLOURING PENCILS BROWN TUBE\n20683    538070           BLACK KITCHEN SCALES\n20684    538070         TWO DOOR CURIO CABINET\n20685    538070  BLUE GIANT GARDEN THERMOMETER",
      "text/html": "<div>\n<style scoped>\n    .dataframe tbody tr th:only-of-type {\n        vertical-align: middle;\n    }\n\n    .dataframe tbody tr th {\n        vertical-align: top;\n    }\n\n    .dataframe thead th {\n        text-align: right;\n    }\n</style>\n<table border=\"1\" class=\"dataframe\">\n  <thead>\n    <tr style=\"text-align: right;\">\n      <th></th>\n      <th>InvoiceNo</th>\n      <th>Description</th>\n    </tr>\n  </thead>\n  <tbody>\n    <tr>\n      <td>20681</td>\n      <td>538070</td>\n      <td>COFFEE MUG DOG + BALL DESIGN</td>\n    </tr>\n    <tr>\n      <td>20682</td>\n      <td>538070</td>\n      <td>COLOURING PENCILS BROWN TUBE</td>\n    </tr>\n    <tr>\n      <td>20683</td>\n      <td>538070</td>\n      <td>BLACK KITCHEN SCALES</td>\n    </tr>\n    <tr>\n      <td>20684</td>\n      <td>538070</td>\n      <td>TWO DOOR CURIO CABINET</td>\n    </tr>\n    <tr>\n      <td>20685</td>\n      <td>538070</td>\n      <td>BLUE GIANT GARDEN THERMOMETER</td>\n    </tr>\n  </tbody>\n</table>\n</div>"
     },
     "metadata": {},
     "execution_count": 25
    }
   ],
   "source": [
    "first_invoice = grpby_invoice.get_group('538070')\n",
    "first_invoice"
   ]
  },
  {
   "cell_type": "code",
   "execution_count": 26,
   "metadata": {},
   "outputs": [
    {
     "output_type": "stream",
     "name": "stdout",
     "text": "<class 'pandas.core.frame.DataFrame'>\n"
    }
   ],
   "source": [
    "print(type(first_invoice))"
   ]
  },
  {
   "cell_type": "code",
   "execution_count": 28,
   "metadata": {},
   "outputs": [
    {
     "output_type": "execute_result",
     "data": {
      "text/plain": "'COFFEE MUG DOG + BALL DESIGN, COLOURING PENCILS BROWN TUBE, BLACK KITCHEN SCALES, TWO DOOR CURIO CABINET, BLUE GIANT GARDEN THERMOMETER'"
     },
     "metadata": {},
     "execution_count": 28
    }
   ],
   "source": [
    "first_invoice_string = first_invoice.Description.str.cat(sep=\", \")\n",
    "first_invoice_string"
   ]
  },
  {
   "cell_type": "code",
   "execution_count": 35,
   "metadata": {},
   "outputs": [],
   "source": [
    "to_save = grpby_invoice.apply(lambda a1: a1[\"Description\"].str.cat(sep=\", \"))"
   ]
  },
  {
   "cell_type": "markdown",
   "metadata": {},
   "source": [
    "Now that we have 25900 samples in a pandas Series, save it to a file for fitting the model in the future"
   ]
  },
  {
   "cell_type": "code",
   "execution_count": 40,
   "metadata": {},
   "outputs": [
    {
     "output_type": "execute_result",
     "data": {
      "text/plain": "      InvoiceNo                                        Description\n0        536365  WHITE HANGING HEART T-LIGHT HOLDER, WHITE META...\n1        536366  HAND WARMER UNION JACK, HAND WARMER RED POLKA DOT\n2        536367  ASSORTED COLOUR BIRD ORNAMENT, POPPY'S PLAYHOU...\n3        536368  JAM MAKING SET WITH JARS, RED COAT RACK PARIS ...\n4        536369                           BATH BUILDING BLOCK WORD\n...         ...                                                ...\n25895   C581484                        PAPER CRAFT , LITTLE BIRDIE\n25896   C581490  VICTORIAN GLASS HANGING T-LIGHT, ZINC T-LIGHT ...\n25897   C581499                                             Manual\n25898   C581568                         VICTORIAN SEWING BOX LARGE\n25899   C581569  HANGING HEART JAR T-LIGHT HOLDER, 36 PENCILS T...\n\n[25900 rows x 2 columns]",
      "text/html": "<div>\n<style scoped>\n    .dataframe tbody tr th:only-of-type {\n        vertical-align: middle;\n    }\n\n    .dataframe tbody tr th {\n        vertical-align: top;\n    }\n\n    .dataframe thead th {\n        text-align: right;\n    }\n</style>\n<table border=\"1\" class=\"dataframe\">\n  <thead>\n    <tr style=\"text-align: right;\">\n      <th></th>\n      <th>InvoiceNo</th>\n      <th>Description</th>\n    </tr>\n  </thead>\n  <tbody>\n    <tr>\n      <td>0</td>\n      <td>536365</td>\n      <td>WHITE HANGING HEART T-LIGHT HOLDER, WHITE META...</td>\n    </tr>\n    <tr>\n      <td>1</td>\n      <td>536366</td>\n      <td>HAND WARMER UNION JACK, HAND WARMER RED POLKA DOT</td>\n    </tr>\n    <tr>\n      <td>2</td>\n      <td>536367</td>\n      <td>ASSORTED COLOUR BIRD ORNAMENT, POPPY'S PLAYHOU...</td>\n    </tr>\n    <tr>\n      <td>3</td>\n      <td>536368</td>\n      <td>JAM MAKING SET WITH JARS, RED COAT RACK PARIS ...</td>\n    </tr>\n    <tr>\n      <td>4</td>\n      <td>536369</td>\n      <td>BATH BUILDING BLOCK WORD</td>\n    </tr>\n    <tr>\n      <td>...</td>\n      <td>...</td>\n      <td>...</td>\n    </tr>\n    <tr>\n      <td>25895</td>\n      <td>C581484</td>\n      <td>PAPER CRAFT , LITTLE BIRDIE</td>\n    </tr>\n    <tr>\n      <td>25896</td>\n      <td>C581490</td>\n      <td>VICTORIAN GLASS HANGING T-LIGHT, ZINC T-LIGHT ...</td>\n    </tr>\n    <tr>\n      <td>25897</td>\n      <td>C581499</td>\n      <td>Manual</td>\n    </tr>\n    <tr>\n      <td>25898</td>\n      <td>C581568</td>\n      <td>VICTORIAN SEWING BOX LARGE</td>\n    </tr>\n    <tr>\n      <td>25899</td>\n      <td>C581569</td>\n      <td>HANGING HEART JAR T-LIGHT HOLDER, 36 PENCILS T...</td>\n    </tr>\n  </tbody>\n</table>\n<p>25900 rows × 2 columns</p>\n</div>"
     },
     "metadata": {},
     "execution_count": 40
    }
   ],
   "source": [
    "to_save_df = pd.DataFrame({'InvoiceNo': to_save.index, \"Description\": to_save.values})\n",
    "#to_save_df.to_csv(\"online_retail.csv\", index=False)\n",
    "to_save_df"
   ]
  },
  {
   "cell_type": "code",
   "execution_count": 41,
   "metadata": {},
   "outputs": [],
   "source": []
  }
 ]
}