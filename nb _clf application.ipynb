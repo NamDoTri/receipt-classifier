{
 "nbformat": 4,
 "nbformat_minor": 2,
 "metadata": {
  "language_info": {
   "name": "python",
   "codemirror_mode": {
    "name": "ipython",
    "version": 3
   },
   "version": "3.7.4-final"
  },
  "orig_nbformat": 2,
  "file_extension": ".py",
  "mimetype": "text/x-python",
  "name": "python",
  "npconvert_exporter": "python",
  "pygments_lexer": "ipython3",
  "version": 3,
  "kernelspec": {
   "name": "python3",
   "display_name": "Python 3"
  }
 },
 "cells": [
  {
   "cell_type": "code",
   "execution_count": 1,
   "metadata": {},
   "outputs": [],
   "source": [
    "import pandas as pd \n",
    "import pickle"
   ]
  },
  {
   "cell_type": "code",
   "execution_count": 2,
   "metadata": {},
   "outputs": [],
   "source": [
    "nb_clf = pickle.load(open(\"models/nb_clf.pickle\", \"rb\"))\n",
    "cv = pickle.load(open(\"models/vectorizer.pickle\", \"rb\"))\n",
    "le = pickle.load(open(\"models/labeler.pickle\", \"rb\"))"
   ]
  },
  {
   "cell_type": "code",
   "execution_count": 3,
   "metadata": {},
   "outputs": [
    {
     "output_type": "execute_result",
     "data": {
      "text/plain": "                                            Description\n0     citrus fruit,semi-finished bread,margarine,rea...\n1                          tropical fruit,yogurt,coffee\n2                                            whole milk\n3            pip fruit,yogurt,cream cheese,meat spreads\n4     other vegetables,whole milk,condensed milk,lon...\n...                                                 ...\n9830  sausage,chicken,beef,hamburger meat,citrus fru...\n9831                                  cooking chocolate\n9832  chicken,citrus fruit,other vegetables,butter,y...\n9833  semi-finished bread,bottled water,soda,bottled...\n9834  chicken,tropical fruit,other vegetables,vinega...\n\n[9835 rows x 1 columns]",
      "text/html": "<div>\n<style scoped>\n    .dataframe tbody tr th:only-of-type {\n        vertical-align: middle;\n    }\n\n    .dataframe tbody tr th {\n        vertical-align: top;\n    }\n\n    .dataframe thead th {\n        text-align: right;\n    }\n</style>\n<table border=\"1\" class=\"dataframe\">\n  <thead>\n    <tr style=\"text-align: right;\">\n      <th></th>\n      <th>Description</th>\n    </tr>\n  </thead>\n  <tbody>\n    <tr>\n      <td>0</td>\n      <td>citrus fruit,semi-finished bread,margarine,rea...</td>\n    </tr>\n    <tr>\n      <td>1</td>\n      <td>tropical fruit,yogurt,coffee</td>\n    </tr>\n    <tr>\n      <td>2</td>\n      <td>whole milk</td>\n    </tr>\n    <tr>\n      <td>3</td>\n      <td>pip fruit,yogurt,cream cheese,meat spreads</td>\n    </tr>\n    <tr>\n      <td>4</td>\n      <td>other vegetables,whole milk,condensed milk,lon...</td>\n    </tr>\n    <tr>\n      <td>...</td>\n      <td>...</td>\n    </tr>\n    <tr>\n      <td>9830</td>\n      <td>sausage,chicken,beef,hamburger meat,citrus fru...</td>\n    </tr>\n    <tr>\n      <td>9831</td>\n      <td>cooking chocolate</td>\n    </tr>\n    <tr>\n      <td>9832</td>\n      <td>chicken,citrus fruit,other vegetables,butter,y...</td>\n    </tr>\n    <tr>\n      <td>9833</td>\n      <td>semi-finished bread,bottled water,soda,bottled...</td>\n    </tr>\n    <tr>\n      <td>9834</td>\n      <td>chicken,tropical fruit,other vegetables,vinega...</td>\n    </tr>\n  </tbody>\n</table>\n<p>9835 rows × 1 columns</p>\n</div>"
     },
     "metadata": {},
     "execution_count": 3
    }
   ],
   "source": [
    "grocery_df = pd.read_csv(\"datasets/PROCESSED/groceries.csv\", sep=\"\\n\", header=None)\n",
    "grocery_df.columns = [\"Description\"]\n",
    "grocery_df"
   ]
  },
  {
   "cell_type": "code",
   "execution_count": 4,
   "metadata": {},
   "outputs": [
    {
     "output_type": "execute_result",
     "data": {
      "text/plain": "'sausage,citrus fruit,whole milk'"
     },
     "metadata": {},
     "execution_count": 4
    }
   ],
   "source": [
    "grocery_df.iloc[9700].Description"
   ]
  },
  {
   "cell_type": "code",
   "execution_count": 9,
   "metadata": {},
   "outputs": [
    {
     "output_type": "execute_result",
     "data": {
      "text/plain": "<1x821 sparse matrix of type '<class 'numpy.int64'>'\n\twith 2 stored elements in Compressed Sparse Row format>"
     },
     "metadata": {},
     "execution_count": 9
    }
   ],
   "source": [
    "X_test = cv.transform([grocery_df.iloc[9700].Description])\n",
    "X_test = cv.transform([\"2,49 EUR / kA 1.060 king 1 Cross 10060 Kauppail Shower Shower Surface Shower Machine Grills Juustosnacches Less Fat Sandwiches SPAVE 560 Lightweight Levi 30 NORMSUOL GRILLS DIPPI RANCH 3.15 2, 49 19 2 2.85 2.59 1.99 2. 2 2.85 0.99 88.54 Compatible Returns: Bottle Rock 1.20-87.34 Compatible\"])\n",
    "X_test"
   ]
  },
  {
   "cell_type": "code",
   "execution_count": 10,
   "metadata": {},
   "outputs": [
    {
     "output_type": "execute_result",
     "data": {
      "text/plain": "array(['Household'], dtype=object)"
     },
     "metadata": {},
     "execution_count": 10
    }
   ],
   "source": [
    "y_test = nb_clf.predict(X_test)\n",
    "le.inverse_transform(y_test)"
   ]
  },
  {
   "cell_type": "code",
   "execution_count": null,
   "metadata": {},
   "outputs": [],
   "source": [
    "# Test string: 2,49 EUR / kA 1.060 king 1 Cross 10060 Kauppail Shower Shower Surface Shower Machine Grills Juustosnacches Less Fat Sandwiches SPAVE 560 Lightweight Levi 30 NORMSUOL GRILLS DIPPI RANCH 3.15 2, 49 19 2 2.85 2.59 1.99 2. 2 2.85 0.99 88.54 Compatible Returns: Bottle Rock 1.20-87.34 Compatible"
   ]
  }
 ]
}