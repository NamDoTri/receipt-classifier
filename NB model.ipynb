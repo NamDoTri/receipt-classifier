{
 "nbformat": 4,
 "nbformat_minor": 2,
 "metadata": {
  "language_info": {
   "name": "python",
   "codemirror_mode": {
    "name": "ipython",
    "version": 3
   },
   "version": "3.7.4-final"
  },
  "orig_nbformat": 2,
  "file_extension": ".py",
  "mimetype": "text/x-python",
  "name": "python",
  "npconvert_exporter": "python",
  "pygments_lexer": "ipython3",
  "version": 3,
  "kernelspec": {
   "name": "python3",
   "display_name": "Python 3"
  }
 },
 "cells": [
  {
   "cell_type": "code",
   "execution_count": 1,
   "metadata": {},
   "outputs": [],
   "source": [
    "from sklearn.metrics import accuracy_score, precision_score, recall_score, classification_report\n",
    "from sklearn.preprocessing import LabelEncoder\n",
    "from sklearn.model_selection import train_test_split\n",
    "from sklearn.feature_extraction.text import CountVectorizer\n",
    "from sklearn.naive_bayes import MultinomialNB\n",
    "\n",
    "import pandas as pd \n",
    "import matplotlib.pyplot as plt"
   ]
  },
  {
   "cell_type": "code",
   "execution_count": 2,
   "metadata": {},
   "outputs": [],
   "source": [
    "grocery_df = pd.read_csv(\"datasets/PROCESSED/groceries.csv\", sep=\"\\n\", header=None)\n",
    "household_df = pd.read_csv(\"datasets/PROCESSED/household.csv\")"
   ]
  },
  {
   "cell_type": "code",
   "execution_count": 3,
   "metadata": {},
   "outputs": [
    {
     "output_type": "execute_result",
     "data": {
      "text/plain": "                                            Description    Label\n0     citrus fruit,semi-finished bread,margarine,rea...  Grocery\n1                          tropical fruit,yogurt,coffee  Grocery\n2                                            whole milk  Grocery\n3            pip fruit,yogurt,cream cheese,meat spreads  Grocery\n4     other vegetables,whole milk,condensed milk,lon...  Grocery\n...                                                 ...      ...\n4228                                   other vegetables  Grocery\n4229  hamburger meat,citrus fruit,other vegetables,w...  Grocery\n4230  sausage,finished products,hamburger meat,citru...  Grocery\n4231  citrus fruit,other vegetables,whole milk,butte...  Grocery\n4232  pork,citrus fruit,other vegetables,dessert,whi...  Grocery\n\n[4233 rows x 2 columns]",
      "text/html": "<div>\n<style scoped>\n    .dataframe tbody tr th:only-of-type {\n        vertical-align: middle;\n    }\n\n    .dataframe tbody tr th {\n        vertical-align: top;\n    }\n\n    .dataframe thead th {\n        text-align: right;\n    }\n</style>\n<table border=\"1\" class=\"dataframe\">\n  <thead>\n    <tr style=\"text-align: right;\">\n      <th></th>\n      <th>Description</th>\n      <th>Label</th>\n    </tr>\n  </thead>\n  <tbody>\n    <tr>\n      <td>0</td>\n      <td>citrus fruit,semi-finished bread,margarine,rea...</td>\n      <td>Grocery</td>\n    </tr>\n    <tr>\n      <td>1</td>\n      <td>tropical fruit,yogurt,coffee</td>\n      <td>Grocery</td>\n    </tr>\n    <tr>\n      <td>2</td>\n      <td>whole milk</td>\n      <td>Grocery</td>\n    </tr>\n    <tr>\n      <td>3</td>\n      <td>pip fruit,yogurt,cream cheese,meat spreads</td>\n      <td>Grocery</td>\n    </tr>\n    <tr>\n      <td>4</td>\n      <td>other vegetables,whole milk,condensed milk,lon...</td>\n      <td>Grocery</td>\n    </tr>\n    <tr>\n      <td>...</td>\n      <td>...</td>\n      <td>...</td>\n    </tr>\n    <tr>\n      <td>4228</td>\n      <td>other vegetables</td>\n      <td>Grocery</td>\n    </tr>\n    <tr>\n      <td>4229</td>\n      <td>hamburger meat,citrus fruit,other vegetables,w...</td>\n      <td>Grocery</td>\n    </tr>\n    <tr>\n      <td>4230</td>\n      <td>sausage,finished products,hamburger meat,citru...</td>\n      <td>Grocery</td>\n    </tr>\n    <tr>\n      <td>4231</td>\n      <td>citrus fruit,other vegetables,whole milk,butte...</td>\n      <td>Grocery</td>\n    </tr>\n    <tr>\n      <td>4232</td>\n      <td>pork,citrus fruit,other vegetables,dessert,whi...</td>\n      <td>Grocery</td>\n    </tr>\n  </tbody>\n</table>\n<p>4233 rows × 2 columns</p>\n</div>"
     },
     "metadata": {},
     "execution_count": 3
    }
   ],
   "source": [
    "grocery_df.columns = [\"Description\"]\n",
    "grocery_df = grocery_df[ grocery_df.index < 4233]\n",
    "grocery_df[\"Label\"] = \"Grocery\"\n",
    "grocery_df"
   ]
  },
  {
   "cell_type": "code",
   "execution_count": 4,
   "metadata": {},
   "outputs": [
    {
     "output_type": "execute_result",
     "data": {
      "text/plain": "          Label                                        Description\n0     Household                           BATH BUILDING BLOCK WORD\n1     Household                    PAPER CHAIN KIT 50'S CHRISTMAS \n2     Household  HOT WATER BOTTLE TEA AND SYMPATHY, RED HANGING...\n3     Household                             JAM MAKING SET PRINTED\n4     Household                       HOMEMADE JAM SCENTED CANDLES\n...         ...                                                ...\n4228  Household                           RETROSPOT LARGE MILK JUG\n4229  Household                15CM CHRISTMAS GLASS BALL 20 LIGHTS\n4230  Household                                 RABBIT NIGHT LIGHT\n4231  Household  VICTORIAN GLASS HANGING T-LIGHT, ZINC T-LIGHT ...\n4232  Household  HANGING HEART JAR T-LIGHT HOLDER, 36 PENCILS T...\n\n[4233 rows x 2 columns]",
      "text/html": "<div>\n<style scoped>\n    .dataframe tbody tr th:only-of-type {\n        vertical-align: middle;\n    }\n\n    .dataframe tbody tr th {\n        vertical-align: top;\n    }\n\n    .dataframe thead th {\n        text-align: right;\n    }\n</style>\n<table border=\"1\" class=\"dataframe\">\n  <thead>\n    <tr style=\"text-align: right;\">\n      <th></th>\n      <th>Label</th>\n      <th>Description</th>\n    </tr>\n  </thead>\n  <tbody>\n    <tr>\n      <td>0</td>\n      <td>Household</td>\n      <td>BATH BUILDING BLOCK WORD</td>\n    </tr>\n    <tr>\n      <td>1</td>\n      <td>Household</td>\n      <td>PAPER CHAIN KIT 50'S CHRISTMAS</td>\n    </tr>\n    <tr>\n      <td>2</td>\n      <td>Household</td>\n      <td>HOT WATER BOTTLE TEA AND SYMPATHY, RED HANGING...</td>\n    </tr>\n    <tr>\n      <td>3</td>\n      <td>Household</td>\n      <td>JAM MAKING SET PRINTED</td>\n    </tr>\n    <tr>\n      <td>4</td>\n      <td>Household</td>\n      <td>HOMEMADE JAM SCENTED CANDLES</td>\n    </tr>\n    <tr>\n      <td>...</td>\n      <td>...</td>\n      <td>...</td>\n    </tr>\n    <tr>\n      <td>4228</td>\n      <td>Household</td>\n      <td>RETROSPOT LARGE MILK JUG</td>\n    </tr>\n    <tr>\n      <td>4229</td>\n      <td>Household</td>\n      <td>15CM CHRISTMAS GLASS BALL 20 LIGHTS</td>\n    </tr>\n    <tr>\n      <td>4230</td>\n      <td>Household</td>\n      <td>RABBIT NIGHT LIGHT</td>\n    </tr>\n    <tr>\n      <td>4231</td>\n      <td>Household</td>\n      <td>VICTORIAN GLASS HANGING T-LIGHT, ZINC T-LIGHT ...</td>\n    </tr>\n    <tr>\n      <td>4232</td>\n      <td>Household</td>\n      <td>HANGING HEART JAR T-LIGHT HOLDER, 36 PENCILS T...</td>\n    </tr>\n  </tbody>\n</table>\n<p>4233 rows × 2 columns</p>\n</div>"
     },
     "metadata": {},
     "execution_count": 4
    }
   ],
   "source": [
    "household_df[\"Label\"] = \"Household\"\n",
    "household_df = household_df[[\"Label\", \"Description\"]]\n",
    "household_df"
   ]
  },
  {
   "cell_type": "code",
   "execution_count": 5,
   "metadata": {},
   "outputs": [],
   "source": [
    "combined_df = grocery_df.append(household_df, ignore_index=True)"
   ]
  },
  {
   "cell_type": "code",
   "execution_count": 6,
   "metadata": {},
   "outputs": [],
   "source": [
    "le = LabelEncoder()\n",
    "cv = CountVectorizer(strip_accents='ascii', token_pattern=u'(?ui)\\\\b\\\\w*[a-z]+\\\\w*\\\\b', stop_words='english' )"
   ]
  },
  {
   "cell_type": "code",
   "execution_count": 7,
   "metadata": {},
   "outputs": [
    {
     "output_type": "execute_result",
     "data": {
      "text/plain": "array(['Grocery', 'Household'], dtype=object)"
     },
     "metadata": {},
     "execution_count": 7
    }
   ],
   "source": [
    "le.fit(combined_df.Label)\n",
    "le.classes_"
   ]
  },
  {
   "cell_type": "code",
   "execution_count": 8,
   "metadata": {},
   "outputs": [
    {
     "output_type": "execute_result",
     "data": {
      "text/plain": "                                            Description      Label  Label_enc\n0     citrus fruit,semi-finished bread,margarine,rea...    Grocery          0\n1                          tropical fruit,yogurt,coffee    Grocery          0\n2                                            whole milk    Grocery          0\n3            pip fruit,yogurt,cream cheese,meat spreads    Grocery          0\n4     other vegetables,whole milk,condensed milk,lon...    Grocery          0\n...                                                 ...        ...        ...\n8461                           RETROSPOT LARGE MILK JUG  Household          1\n8462                15CM CHRISTMAS GLASS BALL 20 LIGHTS  Household          1\n8463                                 RABBIT NIGHT LIGHT  Household          1\n8464  VICTORIAN GLASS HANGING T-LIGHT, ZINC T-LIGHT ...  Household          1\n8465  HANGING HEART JAR T-LIGHT HOLDER, 36 PENCILS T...  Household          1\n\n[8466 rows x 3 columns]",
      "text/html": "<div>\n<style scoped>\n    .dataframe tbody tr th:only-of-type {\n        vertical-align: middle;\n    }\n\n    .dataframe tbody tr th {\n        vertical-align: top;\n    }\n\n    .dataframe thead th {\n        text-align: right;\n    }\n</style>\n<table border=\"1\" class=\"dataframe\">\n  <thead>\n    <tr style=\"text-align: right;\">\n      <th></th>\n      <th>Description</th>\n      <th>Label</th>\n      <th>Label_enc</th>\n    </tr>\n  </thead>\n  <tbody>\n    <tr>\n      <td>0</td>\n      <td>citrus fruit,semi-finished bread,margarine,rea...</td>\n      <td>Grocery</td>\n      <td>0</td>\n    </tr>\n    <tr>\n      <td>1</td>\n      <td>tropical fruit,yogurt,coffee</td>\n      <td>Grocery</td>\n      <td>0</td>\n    </tr>\n    <tr>\n      <td>2</td>\n      <td>whole milk</td>\n      <td>Grocery</td>\n      <td>0</td>\n    </tr>\n    <tr>\n      <td>3</td>\n      <td>pip fruit,yogurt,cream cheese,meat spreads</td>\n      <td>Grocery</td>\n      <td>0</td>\n    </tr>\n    <tr>\n      <td>4</td>\n      <td>other vegetables,whole milk,condensed milk,lon...</td>\n      <td>Grocery</td>\n      <td>0</td>\n    </tr>\n    <tr>\n      <td>...</td>\n      <td>...</td>\n      <td>...</td>\n      <td>...</td>\n    </tr>\n    <tr>\n      <td>8461</td>\n      <td>RETROSPOT LARGE MILK JUG</td>\n      <td>Household</td>\n      <td>1</td>\n    </tr>\n    <tr>\n      <td>8462</td>\n      <td>15CM CHRISTMAS GLASS BALL 20 LIGHTS</td>\n      <td>Household</td>\n      <td>1</td>\n    </tr>\n    <tr>\n      <td>8463</td>\n      <td>RABBIT NIGHT LIGHT</td>\n      <td>Household</td>\n      <td>1</td>\n    </tr>\n    <tr>\n      <td>8464</td>\n      <td>VICTORIAN GLASS HANGING T-LIGHT, ZINC T-LIGHT ...</td>\n      <td>Household</td>\n      <td>1</td>\n    </tr>\n    <tr>\n      <td>8465</td>\n      <td>HANGING HEART JAR T-LIGHT HOLDER, 36 PENCILS T...</td>\n      <td>Household</td>\n      <td>1</td>\n    </tr>\n  </tbody>\n</table>\n<p>8466 rows × 3 columns</p>\n</div>"
     },
     "metadata": {},
     "execution_count": 8
    }
   ],
   "source": [
    "combined_df[\"Label_enc\"] = le.transform(combined_df.Label)\n",
    "combined_df"
   ]
  },
  {
   "cell_type": "code",
   "execution_count": 9,
   "metadata": {},
   "outputs": [],
   "source": [
    "X_train, X_test, y_train, y_test = train_test_split(combined_df.Description, combined_df.Label_enc, random_state = 0, test_size = 0.2)"
   ]
  },
  {
   "cell_type": "code",
   "execution_count": 10,
   "metadata": {},
   "outputs": [],
   "source": [
    "X_train_cv = cv.fit_transform(X_train)\n",
    "X_test_cv = cv.transform(X_test)"
   ]
  },
  {
   "cell_type": "code",
   "execution_count": 11,
   "metadata": {},
   "outputs": [],
   "source": [
    "nb_clf = MultinomialNB()\n",
    "nb_clf.fit(X_train_cv, y_train)\n",
    "y_pred = nb_clf.predict(X_test_cv)"
   ]
  },
  {
   "cell_type": "code",
   "execution_count": 12,
   "metadata": {},
   "outputs": [
    {
     "output_type": "execute_result",
     "data": {
      "text/plain": "0.9988193624557261"
     },
     "metadata": {},
     "execution_count": 12
    }
   ],
   "source": [
    "accuracy = accuracy_score(y_test, y_pred)\n",
    "accuracy"
   ]
  },
  {
   "cell_type": "code",
   "execution_count": 15,
   "metadata": {},
   "outputs": [
    {
     "output_type": "stream",
     "name": "stdout",
     "text": "precision    recall  f1-score   support\n\n     Grocery       1.00      1.00      1.00       865\n   Household       1.00      1.00      1.00       829\n\n    accuracy                           1.00      1694\n   macro avg       1.00      1.00      1.00      1694\nweighted avg       1.00      1.00      1.00      1694\n\n"
    }
   ],
   "source": [
    "print(classification_report(y_test, y_pred, target_names=le.classes_))"
   ]
  },
  {
   "cell_type": "code",
   "execution_count": 17,
   "metadata": {},
   "outputs": [
    {
     "output_type": "stream",
     "name": "stdout",
     "text": "Accuracy score:  0.9988193624557261\nPrecision score:  0.9975932611311673\nRecall score:  1.0\n"
    }
   ],
   "source": [
    "print('Accuracy score: ', accuracy_score(y_test, y_pred))\n",
    "print('Precision score: ', precision_score(y_test, y_pred))\n",
    "print('Recall score: ', recall_score(y_test, y_pred))"
   ]
  }
 ]
}